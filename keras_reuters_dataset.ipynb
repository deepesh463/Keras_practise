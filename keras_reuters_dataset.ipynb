{
  "nbformat": 4,
  "nbformat_minor": 0,
  "metadata": {
    "colab": {
      "name": "keras_reuters_dataset.ipynb",
      "provenance": []
    },
    "kernelspec": {
      "name": "python3",
      "display_name": "Python 3"
    }
  },
  "cells": [
    {
      "cell_type": "code",
      "metadata": {
        "id": "K0WoI1x7hl46",
        "colab_type": "code",
        "colab": {}
      },
      "source": [
        "from keras.datasets import reuters\n",
        "import numpy as np\n",
        "\n",
        "from keras import models\n",
        "from keras import \n",
        "\n",
        "import matplotlib.pyplot as plt"
      ],
      "execution_count": 12,
      "outputs": []
    },
    {
      "cell_type": "code",
      "metadata": {
        "id": "aMBut7z0jmKd",
        "colab_type": "code",
        "colab": {}
      },
      "source": [
        "# loading the reuters dataset\n",
        "\n",
        "(train_data,train_labels),(test_data,test_labels)=reuters.load_data(num_words=10000)"
      ],
      "execution_count": 13,
      "outputs": []
    },
    {
      "cell_type": "code",
      "metadata": {
        "id": "Y1jPblj6j1Tm",
        "colab_type": "code",
        "colab": {}
      },
      "source": [
        "# decoding it , back to the text\n",
        "\n",
        "word_index =reuters.get_word_index()\n",
        "reverse_word_index =dict([(value,key) for (key,value) in word_index.items()])\n",
        "decoded_newswire =''.join([reverse_word_index.get(i-3,'?') for i in train_data[0]])"
      ],
      "execution_count": 14,
      "outputs": []
    },
    {
      "cell_type": "code",
      "metadata": {
        "id": "Zo4aEFTukM_g",
        "colab_type": "code",
        "colab": {}
      },
      "source": [
        "# encoding the dataset\n",
        "\n",
        "def vectorize_sequences(sequences,dimension=10000):\n",
        "  results =np.zeros((len(sequences),dimension))\n",
        "  for  i, sequence in enumerate(sequences):\n",
        "    results[i,sequence] =1\n",
        "\n",
        "  return results\n",
        "\n",
        "X_train =vectorize_sequences(train_data)\n",
        "y_test =vectorize_sequences(test_data)"
      ],
      "execution_count": 28,
      "outputs": []
    },
    {
      "cell_type": "code",
      "metadata": {
        "id": "rZTSfU0uj1Tk",
        "colab_type": "code",
        "colab": {}
      },
      "source": [
        "# encoding the output label\n",
        "\n",
        "from keras.utils.np_utils import to_categorical\n",
        "\n",
        "one_hot_train_labels = to_categorical(train_labels)\n",
        "one_hot_test_labels  =  to_categorical(test_labels)"
      ],
      "execution_count": 29,
      "outputs": []
    },
    {
      "cell_type": "code",
      "metadata": {
        "id": "-P3RmNpxbX8H",
        "colab_type": "code",
        "colab": {}
      },
      "source": [
        "## Model Defination\n",
        "\n",
        "model = models.Sequential()\n",
        "model.add(layers.Dense(64,activation='relu',input_shape=(10000,)))\n",
        "model.add(layers.Dense(64,activation='relu'))\n",
        "model.add(layers.Dense(46,activation='softmax'))"
      ],
      "execution_count": 30,
      "outputs": []
    },
    {
      "cell_type": "code",
      "metadata": {
        "id": "dmuNICDwbYDA",
        "colab_type": "code",
        "colab": {}
      },
      "source": [
        "# compilation of the model\n",
        "\n",
        "model.compile(optimizer='rmsprop',loss='categorical_crossentropy',metrics=['accuracy'])\n"
      ],
      "execution_count": 31,
      "outputs": []
    },
    {
      "cell_type": "code",
      "metadata": {
        "id": "S2I7ZoRkbYIx",
        "colab_type": "code",
        "colab": {}
      },
      "source": [
        "## setting up a validation dataset\n",
        "\n",
        "x_val =X_train[:1000]\n",
        "partial_x_train =X_train[1000:]\n",
        "\n",
        "y_val =one_hot_train_labels[:1000]\n",
        "partial_y_train =one_hot_train_labels[1000:]"
      ],
      "execution_count": 32,
      "outputs": []
    },
    {
      "cell_type": "code",
      "metadata": {
        "id": "Z4u_GyrtbYL3",
        "colab_type": "code",
        "colab": {
          "base_uri": "https://localhost:8080/",
          "height": 697
        },
        "outputId": "55c780cc-0749-4996-d28f-ea0b94b0b6e6"
      },
      "source": [
        "# training the models\n",
        "\n",
        "history = model.fit(partial_x_train,partial_y_train,epochs=20,batch_size=512,validation_data=(x_val,y_val))"
      ],
      "execution_count": 33,
      "outputs": [
        {
          "output_type": "stream",
          "text": [
            "Epoch 1/20\n",
            "16/16 [==============================] - 1s 49ms/step - loss: 2.6133 - accuracy: 0.4489 - val_loss: 1.7797 - val_accuracy: 0.6260\n",
            "Epoch 2/20\n",
            "16/16 [==============================] - 1s 39ms/step - loss: 1.4863 - accuracy: 0.6929 - val_loss: 1.3615 - val_accuracy: 0.6960\n",
            "Epoch 3/20\n",
            "16/16 [==============================] - 1s 38ms/step - loss: 1.1134 - accuracy: 0.7571 - val_loss: 1.1650 - val_accuracy: 0.7370\n",
            "Epoch 4/20\n",
            "16/16 [==============================] - 1s 37ms/step - loss: 0.8832 - accuracy: 0.8051 - val_loss: 1.0630 - val_accuracy: 0.7580\n",
            "Epoch 5/20\n",
            "16/16 [==============================] - 1s 37ms/step - loss: 0.7092 - accuracy: 0.8460 - val_loss: 0.9961 - val_accuracy: 0.7770\n",
            "Epoch 6/20\n",
            "16/16 [==============================] - 1s 37ms/step - loss: 0.5745 - accuracy: 0.8761 - val_loss: 0.9564 - val_accuracy: 0.7950\n",
            "Epoch 7/20\n",
            "16/16 [==============================] - 1s 37ms/step - loss: 0.4650 - accuracy: 0.9007 - val_loss: 0.9071 - val_accuracy: 0.8100\n",
            "Epoch 8/20\n",
            "16/16 [==============================] - 1s 38ms/step - loss: 0.3771 - accuracy: 0.9182 - val_loss: 0.8988 - val_accuracy: 0.8080\n",
            "Epoch 9/20\n",
            "16/16 [==============================] - 1s 39ms/step - loss: 0.3131 - accuracy: 0.9305 - val_loss: 0.9119 - val_accuracy: 0.8110\n",
            "Epoch 10/20\n",
            "16/16 [==============================] - 1s 38ms/step - loss: 0.2598 - accuracy: 0.9411 - val_loss: 0.8987 - val_accuracy: 0.8210\n",
            "Epoch 11/20\n",
            "16/16 [==============================] - 1s 38ms/step - loss: 0.2242 - accuracy: 0.9450 - val_loss: 0.9256 - val_accuracy: 0.8060\n",
            "Epoch 12/20\n",
            "16/16 [==============================] - 1s 37ms/step - loss: 0.1950 - accuracy: 0.9498 - val_loss: 0.9231 - val_accuracy: 0.8210\n",
            "Epoch 13/20\n",
            "16/16 [==============================] - 1s 37ms/step - loss: 0.1731 - accuracy: 0.9535 - val_loss: 0.9622 - val_accuracy: 0.8120\n",
            "Epoch 14/20\n",
            "16/16 [==============================] - 1s 37ms/step - loss: 0.1547 - accuracy: 0.9562 - val_loss: 0.9340 - val_accuracy: 0.8130\n",
            "Epoch 15/20\n",
            "16/16 [==============================] - 1s 37ms/step - loss: 0.1431 - accuracy: 0.9560 - val_loss: 0.9962 - val_accuracy: 0.8070\n",
            "Epoch 16/20\n",
            "16/16 [==============================] - 1s 38ms/step - loss: 0.1364 - accuracy: 0.9544 - val_loss: 0.9821 - val_accuracy: 0.8080\n",
            "Epoch 17/20\n",
            "16/16 [==============================] - 1s 38ms/step - loss: 0.1279 - accuracy: 0.9553 - val_loss: 1.0982 - val_accuracy: 0.7930\n",
            "Epoch 18/20\n",
            "16/16 [==============================] - 1s 38ms/step - loss: 0.1244 - accuracy: 0.9554 - val_loss: 1.0698 - val_accuracy: 0.7960\n",
            "Epoch 19/20\n",
            "16/16 [==============================] - 1s 37ms/step - loss: 0.1138 - accuracy: 0.9573 - val_loss: 1.0562 - val_accuracy: 0.8010\n",
            "Epoch 20/20\n",
            "16/16 [==============================] - 1s 37ms/step - loss: 0.1156 - accuracy: 0.9579 - val_loss: 1.0476 - val_accuracy: 0.8070\n"
          ],
          "name": "stdout"
        }
      ]
    },
    {
      "cell_type": "code",
      "metadata": {
        "id": "Vd_GXlJAobqR",
        "colab_type": "code",
        "colab": {
          "base_uri": "https://localhost:8080/",
          "height": 295
        },
        "outputId": "b357caf7-2508-4cd9-a9da-50c0fbabbcc6"
      },
      "source": [
        "# training and validation loss\n",
        "\n",
        "loss =history.history['loss']\n",
        "val_loss =history.history['val_loss']\n",
        "\n",
        "epochs =range(1,len(loss)+1)\n",
        "plt.plot(epochs,loss,'bo',label='Training Loss')\n",
        "plt.plot(epochs,val_loss,'b',label='Validation Loss')\n",
        "plt.title('Training and validation loss')\n",
        "plt.xlabel('Epochs')\n",
        "plt.ylabel('Loss')\n",
        "plt.legend()\n",
        "\n",
        "plt.show()"
      ],
      "execution_count": 35,
      "outputs": [
        {
          "output_type": "display_data",
          "data": {
            "image/png": "[encoded data removed]",
            "text/plain": [
              "<Figure size 432x288 with 1 Axes>"
            ]
          },
          "metadata": {
            "tags": [],
            "needs_background": "light"
          }
        }
      ]
    },
    {
      "cell_type": "code",
      "metadata": {
        "id": "M8o0S9vnt0hW",
        "colab_type": "code",
        "colab": {
          "base_uri": "https://localhost:8080/",
          "height": 295
        },
        "outputId": "89148d12-5b4b-4610-96a6-c4fd85085b3c"
      },
      "source": [
        "# training and validation accuracy\n",
        "\n",
        "plt.clf()\n",
        "acc =history.history['accuracy']\n",
        "val_acc =history.history['val_accuracy']\n",
        "\n",
        "plt.plot(epochs,acc,'bo',label='Training Labels')\n",
        "plt.plot(epochs,val_acc,'b',label='Validation acc')\n",
        "plt.title('Training and validation accuracy')\n",
        "plt.xlabel('Epochs')\n",
        "plt.ylabel('Loss')\n",
        "plt.legend()\n",
        "\n",
        "plt.show()"
      ],
      "execution_count": 39,
      "outputs": [
        {
          "output_type": "display_data",
          "data": {
            "image/png": "[encoded data removed]",
            "text/plain": [
              "<Figure size 432x288 with 1 Axes>"
            ]
          },
          "metadata": {
            "tags": [],
            "needs_background": "light"
          }
        }
      ]
    },
    {
      "cell_type": "code",
      "metadata": {
        "id": "Uj7mgy88uzV0",
        "colab_type": "code",
        "colab": {
          "base_uri": "https://localhost:8080/",
          "height": 340
        },
        "outputId": "f212aa6e-29c4-443a-a28b-79e0f4bfc955"
      },
      "source": [
        "# Retraining a model from scratch ( to prevent the overfit)\n",
        "\n",
        "model =models.Sequential()\n",
        "model.add(layers.Dense(64,activation='relu',input_shape=(10000,)))\n",
        "model.add(layers.Dense(64,activation='relu'))\n",
        "model.add(layers.Dense(46,activation='softmax'))\n",
        "\n",
        "model.compile(optimizer='rmsprop',loss='categorical_crossentropy',metrics=['accuracy'])\n",
        "\n",
        "model.fit(partial_x_train,partial_y_train,epochs=9,batch_size=512,validation_data=(x_val,y_val))\n",
        "results=model.evaluate(y_test,one_hot_test_labels)"
      ],
      "execution_count": 43,
      "outputs": [
        {
          "output_type": "stream",
          "text": [
            "Epoch 1/9\n",
            "16/16 [==============================] - 1s 46ms/step - loss: 2.6104 - accuracy: 0.4822 - val_loss: 1.7579 - val_accuracy: 0.6260\n",
            "Epoch 2/9\n",
            "16/16 [==============================] - 1s 37ms/step - loss: 1.4181 - accuracy: 0.7037 - val_loss: 1.3031 - val_accuracy: 0.7120\n",
            "Epoch 3/9\n",
            "16/16 [==============================] - 1s 37ms/step - loss: 1.0404 - accuracy: 0.7755 - val_loss: 1.1298 - val_accuracy: 0.7580\n",
            "Epoch 4/9\n",
            "16/16 [==============================] - 1s 38ms/step - loss: 0.8174 - accuracy: 0.8222 - val_loss: 1.0302 - val_accuracy: 0.7810\n",
            "Epoch 5/9\n",
            "16/16 [==============================] - 1s 38ms/step - loss: 0.6601 - accuracy: 0.8596 - val_loss: 0.9640 - val_accuracy: 0.7990\n",
            "Epoch 6/9\n",
            "16/16 [==============================] - 1s 37ms/step - loss: 0.5252 - accuracy: 0.8911 - val_loss: 0.9377 - val_accuracy: 0.8000\n",
            "Epoch 7/9\n",
            "16/16 [==============================] - 1s 38ms/step - loss: 0.4267 - accuracy: 0.9110 - val_loss: 0.9068 - val_accuracy: 0.8160\n",
            "Epoch 8/9\n",
            "16/16 [==============================] - 1s 38ms/step - loss: 0.3445 - accuracy: 0.9252 - val_loss: 0.9360 - val_accuracy: 0.8160\n",
            "Epoch 9/9\n",
            "16/16 [==============================] - 1s 37ms/step - loss: 0.2838 - accuracy: 0.9372 - val_loss: 0.9325 - val_accuracy: 0.8120\n",
            "71/71 [==============================] - 0s 2ms/step - loss: 0.9811 - accuracy: 0.7832\n"
          ],
          "name": "stdout"
        }
      ]
    },
    {
      "cell_type": "code",
      "metadata": {
        "id": "4iKEx7WpvTL9",
        "colab_type": "code",
        "colab": {
          "base_uri": "https://localhost:8080/",
          "height": 34
        },
        "outputId": "709c44d5-3959-460f-b7c1-83aa86a249f0"
      },
      "source": [
        "results"
      ],
      "execution_count": 44,
      "outputs": [
        {
          "output_type": "execute_result",
          "data": {
            "text/plain": [
              "[0.9811450839042664, 0.7831701040267944]"
            ]
          },
          "metadata": {
            "tags": []
          },
          "execution_count": 44
        }
      ]
    },
    {
      "cell_type": "code",
      "metadata": {
        "id": "OzDE7MKTyy8P",
        "colab_type": "code",
        "colab": {
          "base_uri": "https://localhost:8080/",
          "height": 714
        },
        "outputId": "eb36331f-1278-46e0-f454-fcb77ee08e05"
      },
      "source": [
        "# A model with Information bottleneck\n",
        "\n",
        "model =models.Sequential()\n",
        "model.add(layers.Dense(64,activation='relu',input_shape=(10000,)))\n",
        "model.add(layers.Dense(4,activation='relu'))\n",
        "model.add(layers.Dense(46,activation='softmax'))\n",
        "\n",
        "model.compile(optimizer='rmsprop',loss ='categorical_crossentropy',metrics=['accuracy'])\n",
        "\n",
        "model.fit(partial_x_train,partial_y_train,epochs=20,validation_data=(x_val,y_val))"
      ],
      "execution_count": 45,
      "outputs": [
        {
          "output_type": "stream",
          "text": [
            "Epoch 1/20\n",
            "250/250 [==============================] - 2s 9ms/step - loss: 2.3484 - accuracy: 0.4097 - val_loss: 1.6977 - val_accuracy: 0.5600\n",
            "Epoch 2/20\n",
            "250/250 [==============================] - 2s 9ms/step - loss: 1.4395 - accuracy: 0.6389 - val_loss: 1.4317 - val_accuracy: 0.6390\n",
            "Epoch 3/20\n",
            "250/250 [==============================] - 2s 9ms/step - loss: 1.2240 - accuracy: 0.6774 - val_loss: 1.3799 - val_accuracy: 0.6760\n",
            "Epoch 4/20\n",
            "250/250 [==============================] - 2s 9ms/step - loss: 1.0876 - accuracy: 0.7075 - val_loss: 1.3744 - val_accuracy: 0.7010\n",
            "Epoch 5/20\n",
            "250/250 [==============================] - 2s 9ms/step - loss: 0.9652 - accuracy: 0.7593 - val_loss: 1.4076 - val_accuracy: 0.7210\n",
            "Epoch 6/20\n",
            "250/250 [==============================] - 2s 9ms/step - loss: 0.8623 - accuracy: 0.7969 - val_loss: 1.4040 - val_accuracy: 0.7150\n",
            "Epoch 7/20\n",
            "250/250 [==============================] - 2s 9ms/step - loss: 0.7790 - accuracy: 0.8150 - val_loss: 1.4841 - val_accuracy: 0.7210\n",
            "Epoch 8/20\n",
            "250/250 [==============================] - 2s 9ms/step - loss: 0.7156 - accuracy: 0.8287 - val_loss: 1.5838 - val_accuracy: 0.7210\n",
            "Epoch 9/20\n",
            "250/250 [==============================] - 2s 9ms/step - loss: 0.6699 - accuracy: 0.8350 - val_loss: 1.6239 - val_accuracy: 0.7220\n",
            "Epoch 10/20\n",
            "250/250 [==============================] - 2s 9ms/step - loss: 0.6250 - accuracy: 0.8443 - val_loss: 1.7491 - val_accuracy: 0.7240\n",
            "Epoch 11/20\n",
            "250/250 [==============================] - 2s 9ms/step - loss: 0.5974 - accuracy: 0.8550 - val_loss: 1.8093 - val_accuracy: 0.7250\n",
            "Epoch 12/20\n",
            "250/250 [==============================] - 2s 9ms/step - loss: 0.5712 - accuracy: 0.8613 - val_loss: 1.9023 - val_accuracy: 0.7200\n",
            "Epoch 13/20\n",
            "250/250 [==============================] - 2s 9ms/step - loss: 0.5478 - accuracy: 0.8666 - val_loss: 2.0672 - val_accuracy: 0.7230\n",
            "Epoch 14/20\n",
            "250/250 [==============================] - 2s 9ms/step - loss: 0.5265 - accuracy: 0.8697 - val_loss: 2.1424 - val_accuracy: 0.7270\n",
            "Epoch 15/20\n",
            "250/250 [==============================] - 2s 9ms/step - loss: 0.5082 - accuracy: 0.8726 - val_loss: 2.1777 - val_accuracy: 0.7130\n",
            "Epoch 16/20\n",
            "250/250 [==============================] - 2s 9ms/step - loss: 0.4973 - accuracy: 0.8725 - val_loss: 2.3617 - val_accuracy: 0.7190\n",
            "Epoch 17/20\n",
            "250/250 [==============================] - 2s 9ms/step - loss: 0.4863 - accuracy: 0.8753 - val_loss: 2.5275 - val_accuracy: 0.7220\n",
            "Epoch 18/20\n",
            "250/250 [==============================] - 2s 9ms/step - loss: 0.4741 - accuracy: 0.8767 - val_loss: 2.4507 - val_accuracy: 0.7180\n",
            "Epoch 19/20\n",
            "250/250 [==============================] - 2s 9ms/step - loss: 0.4589 - accuracy: 0.8772 - val_loss: 2.6522 - val_accuracy: 0.7110\n",
            "Epoch 20/20\n",
            "250/250 [==============================] - 2s 9ms/step - loss: 0.4526 - accuracy: 0.8772 - val_loss: 2.7868 - val_accuracy: 0.7140\n"
          ],
          "name": "stdout"
        },
        {
          "output_type": "execute_result",
          "data": {
            "text/plain": [
              "<tensorflow.python.keras.callbacks.History at 0x7f76eac8e7f0>"
            ]
          },
          "metadata": {
            "tags": []
          },
          "execution_count": 45
        }
      ]
    },
    {
      "cell_type": "code",
      "metadata": {
        "id": "sXJyy2CX1-K8",
        "colab_type": "code",
        "colab": {}
      },
      "source": [
        ""
      ],
      "execution_count": null,
      "outputs": []
    },
    {
      "cell_type": "markdown",
      "metadata": {
        "id": "b_w47a6K2Wzu",
        "colab_type": "text"
      },
      "source": [
        "**Further Experiments**\n"
      ]
    },
    {
      "cell_type": "code",
      "metadata": {
        "id": "mWzaeugx2Y76",
        "colab_type": "code",
        "colab": {
          "base_uri": "https://localhost:8080/",
          "height": 734
        },
        "outputId": "7ecc90ab-d0e4-43de-882f-6a6835dc2495"
      },
      "source": [
        "## increase the middle hidden layer size from 4 to 32\n",
        "\n",
        "model =models.Sequential()\n",
        "model.add(layers.Dense(64,activation='relu',input_shape=(10000,)))\n",
        "model.add(layers.Dense(32,activation='relu'))\n",
        "model.add(layers.Dense(46,activation='softmax'))\n",
        "\n",
        "model.compile(optimizer='rmsprop',loss ='categorical_crossentropy',metrics=['accuracy'])\n",
        "\n",
        "model.fit(partial_x_train,partial_y_train,epochs=20,validation_data=(x_val,y_val))"
      ],
      "execution_count": 46,
      "outputs": [
        {
          "output_type": "stream",
          "text": [
            "Epoch 1/20\n",
            "250/250 [==============================] - 2s 9ms/step - loss: 1.5460 - accuracy: 0.6735 - val_loss: 1.0880 - val_accuracy: 0.7580\n",
            "Epoch 2/20\n",
            "250/250 [==============================] - 2s 9ms/step - loss: 0.8135 - accuracy: 0.8259 - val_loss: 0.9098 - val_accuracy: 0.8180\n",
            "Epoch 3/20\n",
            "250/250 [==============================] - 2s 9ms/step - loss: 0.5266 - accuracy: 0.8895 - val_loss: 0.8879 - val_accuracy: 0.8230\n",
            "Epoch 4/20\n",
            "250/250 [==============================] - 2s 9ms/step - loss: 0.3704 - accuracy: 0.9208 - val_loss: 0.9280 - val_accuracy: 0.8140\n",
            "Epoch 5/20\n",
            "250/250 [==============================] - 2s 9ms/step - loss: 0.2818 - accuracy: 0.9386 - val_loss: 1.0118 - val_accuracy: 0.8180\n",
            "Epoch 6/20\n",
            "250/250 [==============================] - 2s 9ms/step - loss: 0.2361 - accuracy: 0.9465 - val_loss: 1.0916 - val_accuracy: 0.8040\n",
            "Epoch 7/20\n",
            "250/250 [==============================] - 2s 9ms/step - loss: 0.2048 - accuracy: 0.9510 - val_loss: 1.1874 - val_accuracy: 0.8050\n",
            "Epoch 8/20\n",
            "250/250 [==============================] - 2s 10ms/step - loss: 0.1867 - accuracy: 0.9534 - val_loss: 1.2460 - val_accuracy: 0.8020\n",
            "Epoch 9/20\n",
            "250/250 [==============================] - 2s 10ms/step - loss: 0.1702 - accuracy: 0.9539 - val_loss: 1.3631 - val_accuracy: 0.7900\n",
            "Epoch 10/20\n",
            "250/250 [==============================] - 2s 9ms/step - loss: 0.1657 - accuracy: 0.9558 - val_loss: 1.3135 - val_accuracy: 0.7970\n",
            "Epoch 11/20\n",
            "250/250 [==============================] - 2s 9ms/step - loss: 0.1568 - accuracy: 0.9559 - val_loss: 1.3951 - val_accuracy: 0.7960\n",
            "Epoch 12/20\n",
            "250/250 [==============================] - 2s 9ms/step - loss: 0.1445 - accuracy: 0.9567 - val_loss: 1.5450 - val_accuracy: 0.7870\n",
            "Epoch 13/20\n",
            "250/250 [==============================] - 2s 9ms/step - loss: 0.1398 - accuracy: 0.9574 - val_loss: 1.5917 - val_accuracy: 0.7770\n",
            "Epoch 14/20\n",
            "250/250 [==============================] - 2s 9ms/step - loss: 0.1368 - accuracy: 0.9575 - val_loss: 1.7666 - val_accuracy: 0.7890\n",
            "Epoch 15/20\n",
            "250/250 [==============================] - 2s 9ms/step - loss: 0.1339 - accuracy: 0.9550 - val_loss: 1.6873 - val_accuracy: 0.7860\n",
            "Epoch 16/20\n",
            "250/250 [==============================] - 2s 9ms/step - loss: 0.1282 - accuracy: 0.9573 - val_loss: 1.8153 - val_accuracy: 0.7870\n",
            "Epoch 17/20\n",
            "250/250 [==============================] - 2s 9ms/step - loss: 0.1217 - accuracy: 0.9570 - val_loss: 1.9204 - val_accuracy: 0.7710\n",
            "Epoch 18/20\n",
            "250/250 [==============================] - 2s 9ms/step - loss: 0.1212 - accuracy: 0.9575 - val_loss: 2.0294 - val_accuracy: 0.7830\n",
            "Epoch 19/20\n",
            "250/250 [==============================] - 2s 9ms/step - loss: 0.1180 - accuracy: 0.9594 - val_loss: 2.2409 - val_accuracy: 0.7790\n",
            "Epoch 20/20\n",
            "250/250 [==============================] - 2s 9ms/step - loss: 0.1143 - accuracy: 0.9574 - val_loss: 2.2018 - val_accuracy: 0.7730\n"
          ],
          "name": "stdout"
        },
        {
          "output_type": "execute_result",
          "data": {
            "text/plain": [
              "<tensorflow.python.keras.callbacks.History at 0x7f76ea959fd0>"
            ]
          },
          "metadata": {
            "tags": []
          },
          "execution_count": 46
        }
      ]
    },
    {
      "cell_type": "code",
      "metadata": {
        "id": "2t_rJidD2q1J",
        "colab_type": "code",
        "colab": {
          "base_uri": "https://localhost:8080/",
          "height": 734
        },
        "outputId": "9d1a2e83-d0ae-4e66-f3b3-e57a7c5e050f"
      },
      "source": [
        "## increase the middle hidden layer size from 32 to 128\n",
        "\n",
        "model =models.Sequential()\n",
        "model.add(layers.Dense(64,activation='relu',input_shape=(10000,)))\n",
        "model.add(layers.Dense(128,activation='relu'))\n",
        "model.add(layers.Dense(46,activation='softmax'))\n",
        "\n",
        "model.compile(optimizer='rmsprop',loss ='categorical_crossentropy',metrics=['accuracy'])\n",
        "\n",
        "model.fit(partial_x_train,partial_y_train,epochs=20,validation_data=(x_val,y_val))"
      ],
      "execution_count": 47,
      "outputs": [
        {
          "output_type": "stream",
          "text": [
            "Epoch 1/20\n",
            "250/250 [==============================] - 2s 10ms/step - loss: 1.4144 - accuracy: 0.6889 - val_loss: 1.0481 - val_accuracy: 0.7680\n",
            "Epoch 2/20\n",
            "250/250 [==============================] - 2s 9ms/step - loss: 0.7241 - accuracy: 0.8391 - val_loss: 0.8964 - val_accuracy: 0.8120\n",
            "Epoch 3/20\n",
            "250/250 [==============================] - 2s 9ms/step - loss: 0.4429 - accuracy: 0.9050 - val_loss: 0.8630 - val_accuracy: 0.8310\n",
            "Epoch 4/20\n",
            "250/250 [==============================] - 2s 9ms/step - loss: 0.3056 - accuracy: 0.9313 - val_loss: 0.9185 - val_accuracy: 0.8300\n",
            "Epoch 5/20\n",
            "250/250 [==============================] - 2s 9ms/step - loss: 0.2422 - accuracy: 0.9434 - val_loss: 1.0259 - val_accuracy: 0.8170\n",
            "Epoch 6/20\n",
            "250/250 [==============================] - 2s 9ms/step - loss: 0.2036 - accuracy: 0.9496 - val_loss: 1.1483 - val_accuracy: 0.8140\n",
            "Epoch 7/20\n",
            "250/250 [==============================] - 2s 9ms/step - loss: 0.1878 - accuracy: 0.9530 - val_loss: 1.2280 - val_accuracy: 0.8060\n",
            "Epoch 8/20\n",
            "250/250 [==============================] - 2s 9ms/step - loss: 0.1686 - accuracy: 0.9521 - val_loss: 1.2657 - val_accuracy: 0.8060\n",
            "Epoch 9/20\n",
            "250/250 [==============================] - 2s 9ms/step - loss: 0.1597 - accuracy: 0.9545 - val_loss: 1.3755 - val_accuracy: 0.8060\n",
            "Epoch 10/20\n",
            "250/250 [==============================] - 2s 9ms/step - loss: 0.1488 - accuracy: 0.9562 - val_loss: 1.5207 - val_accuracy: 0.8010\n",
            "Epoch 11/20\n",
            "250/250 [==============================] - 2s 9ms/step - loss: 0.1432 - accuracy: 0.9568 - val_loss: 1.4682 - val_accuracy: 0.8000\n",
            "Epoch 12/20\n",
            "250/250 [==============================] - 2s 9ms/step - loss: 0.1339 - accuracy: 0.9563 - val_loss: 1.5595 - val_accuracy: 0.7970\n",
            "Epoch 13/20\n",
            "250/250 [==============================] - 2s 9ms/step - loss: 0.1259 - accuracy: 0.9573 - val_loss: 1.6520 - val_accuracy: 0.7960\n",
            "Epoch 14/20\n",
            "250/250 [==============================] - 2s 9ms/step - loss: 0.1242 - accuracy: 0.9578 - val_loss: 1.6319 - val_accuracy: 0.7980\n",
            "Epoch 15/20\n",
            "250/250 [==============================] - 2s 9ms/step - loss: 0.1187 - accuracy: 0.9577 - val_loss: 1.8045 - val_accuracy: 0.7880\n",
            "Epoch 16/20\n",
            "250/250 [==============================] - 2s 9ms/step - loss: 0.1151 - accuracy: 0.9573 - val_loss: 1.9454 - val_accuracy: 0.7950\n",
            "Epoch 17/20\n",
            "250/250 [==============================] - 2s 9ms/step - loss: 0.1103 - accuracy: 0.9593 - val_loss: 2.1257 - val_accuracy: 0.7960\n",
            "Epoch 18/20\n",
            "250/250 [==============================] - 2s 9ms/step - loss: 0.1063 - accuracy: 0.9579 - val_loss: 2.2590 - val_accuracy: 0.7850\n",
            "Epoch 19/20\n",
            "250/250 [==============================] - 2s 9ms/step - loss: 0.1060 - accuracy: 0.9572 - val_loss: 2.3165 - val_accuracy: 0.7940\n",
            "Epoch 20/20\n",
            "250/250 [==============================] - 2s 9ms/step - loss: 0.1059 - accuracy: 0.9590 - val_loss: 2.4772 - val_accuracy: 0.7960\n"
          ],
          "name": "stdout"
        },
        {
          "output_type": "execute_result",
          "data": {
            "text/plain": [
              "<tensorflow.python.keras.callbacks.History at 0x7f76ea1a7630>"
            ]
          },
          "metadata": {
            "tags": []
          },
          "execution_count": 47
        }
      ]
    },
    {
      "cell_type": "code",
      "metadata": {
        "id": "l3iatWHT2-Nj",
        "colab_type": "code",
        "colab": {
          "base_uri": "https://localhost:8080/",
          "height": 734
        },
        "outputId": "c996f950-5cb2-48be-e854-ba3f1ef37c9f"
      },
      "source": [
        "model =models.Sequential()\n",
        "model.add(layers.Dense(64,activation='relu',input_shape=(10000,)))\n",
        "model.add(layers.Dense(64,activation='relu'))\n",
        "model.add(layers.Dense(64,activation='relu'))\n",
        "model.add(layers.Dense(46,activation='softmax'))\n",
        "\n",
        "model.compile(optimizer='rmsprop',loss ='categorical_crossentropy',metrics=['accuracy'])\n",
        "\n",
        "model.fit(partial_x_train,partial_y_train,epochs=20,validation_data=(x_val,y_val))"
      ],
      "execution_count": 49,
      "outputs": [
        {
          "output_type": "stream",
          "text": [
            "Epoch 1/20\n",
            "250/250 [==============================] - 2s 9ms/step - loss: 1.4688 - accuracy: 0.6734 - val_loss: 1.1072 - val_accuracy: 0.7510\n",
            "Epoch 2/20\n",
            "250/250 [==============================] - 2s 9ms/step - loss: 0.7971 - accuracy: 0.8197 - val_loss: 0.9253 - val_accuracy: 0.7990\n",
            "Epoch 3/20\n",
            "250/250 [==============================] - 2s 9ms/step - loss: 0.4950 - accuracy: 0.8894 - val_loss: 0.9513 - val_accuracy: 0.8240\n",
            "Epoch 4/20\n",
            "250/250 [==============================] - 2s 9ms/step - loss: 0.3377 - accuracy: 0.9226 - val_loss: 1.0415 - val_accuracy: 0.8180\n",
            "Epoch 5/20\n",
            "250/250 [==============================] - 2s 9ms/step - loss: 0.2593 - accuracy: 0.9389 - val_loss: 1.0771 - val_accuracy: 0.8080\n",
            "Epoch 6/20\n",
            "250/250 [==============================] - 2s 9ms/step - loss: 0.2207 - accuracy: 0.9449 - val_loss: 1.0476 - val_accuracy: 0.8120\n",
            "Epoch 7/20\n",
            "250/250 [==============================] - 2s 9ms/step - loss: 0.1904 - accuracy: 0.9524 - val_loss: 1.3658 - val_accuracy: 0.7830\n",
            "Epoch 8/20\n",
            "250/250 [==============================] - 2s 9ms/step - loss: 0.1738 - accuracy: 0.9540 - val_loss: 1.4308 - val_accuracy: 0.7890\n",
            "Epoch 9/20\n",
            "250/250 [==============================] - 2s 9ms/step - loss: 0.1651 - accuracy: 0.9541 - val_loss: 1.3401 - val_accuracy: 0.8070\n",
            "Epoch 10/20\n",
            "250/250 [==============================] - 2s 9ms/step - loss: 0.1511 - accuracy: 0.9558 - val_loss: 1.4558 - val_accuracy: 0.7950\n",
            "Epoch 11/20\n",
            "250/250 [==============================] - 2s 9ms/step - loss: 0.1390 - accuracy: 0.9563 - val_loss: 1.6697 - val_accuracy: 0.7930\n",
            "Epoch 12/20\n",
            "250/250 [==============================] - 2s 9ms/step - loss: 0.1314 - accuracy: 0.9565 - val_loss: 1.6813 - val_accuracy: 0.7950\n",
            "Epoch 13/20\n",
            "250/250 [==============================] - 2s 9ms/step - loss: 0.1272 - accuracy: 0.9574 - val_loss: 1.7688 - val_accuracy: 0.7900\n",
            "Epoch 14/20\n",
            "250/250 [==============================] - 2s 9ms/step - loss: 0.1224 - accuracy: 0.9560 - val_loss: 1.9080 - val_accuracy: 0.7800\n",
            "Epoch 15/20\n",
            "250/250 [==============================] - 2s 9ms/step - loss: 0.1188 - accuracy: 0.9580 - val_loss: 1.6111 - val_accuracy: 0.7770\n",
            "Epoch 16/20\n",
            "250/250 [==============================] - 2s 9ms/step - loss: 0.1149 - accuracy: 0.9582 - val_loss: 1.8612 - val_accuracy: 0.7850\n",
            "Epoch 17/20\n",
            "250/250 [==============================] - 2s 9ms/step - loss: 0.1129 - accuracy: 0.9582 - val_loss: 1.8941 - val_accuracy: 0.7770\n",
            "Epoch 18/20\n",
            "250/250 [==============================] - 2s 9ms/step - loss: 0.1096 - accuracy: 0.9597 - val_loss: 1.7977 - val_accuracy: 0.7750\n",
            "Epoch 19/20\n",
            "250/250 [==============================] - 2s 9ms/step - loss: 0.1068 - accuracy: 0.9597 - val_loss: 1.9623 - val_accuracy: 0.7840\n",
            "Epoch 20/20\n",
            "250/250 [==============================] - 2s 9ms/step - loss: 0.1029 - accuracy: 0.9600 - val_loss: 1.9282 - val_accuracy: 0.7700\n"
          ],
          "name": "stdout"
        },
        {
          "output_type": "execute_result",
          "data": {
            "text/plain": [
              "<tensorflow.python.keras.callbacks.History at 0x7f76ea071b00>"
            ]
          },
          "metadata": {
            "tags": []
          },
          "execution_count": 49
        }
      ]
    },
    {
      "cell_type": "code",
      "metadata": {
        "id": "FkfZExdf3bjm",
        "colab_type": "code",
        "colab": {}
      },
      "source": [
        ""
      ],
      "execution_count": null,
      "outputs": []
    }
  ]
}